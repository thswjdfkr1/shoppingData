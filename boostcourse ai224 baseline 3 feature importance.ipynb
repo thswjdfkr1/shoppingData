{
 "cells": [
  {
   "cell_type": "markdown",
   "id": "beneficial-occupation",
   "metadata": {},
   "source": [
    "# boostcourse ai224 / 베이스라인 모델 3 피처 중요도\n",
    "\n",
    "- 세번째 베이스라인 모델에서 LightGBM 외에 XGBoost, CatBoost 모델링을 추가 구현해보고 각 모델의 피처 중요도를 계산하여 그려보기"
   ]
  },
  {
   "cell_type": "markdown",
   "id": "quality-council",
   "metadata": {},
   "source": [
    "## Function 정의\n",
    "\n",
    "- seed_everything() : seed 고정 함수\n",
    "- generate_label() : label 생성 함수\n",
    "- print_score() : 평가지표 출력 함수\n",
    "- feature_preprocessing() : 데이터 전처리 함수(label encoding, 결측치 처리)\n",
    "- feature_engineering1() : 피처 엔지니어링 함수\n",
    "- make_lgb_oof_prediction() : LightGBM cross validation out of fold train/predict 함수\n",
    "- make_xgb_oof_prediction() : XGBoost cross validation out of fold train/predict 함수\n",
    "- make_cat_oof_prediction() : CatBoost cross validation out of fold train/predict 함수\n",
    "- plot_feature_importances() : 피처 중요도 플롯 함수"
   ]
  },
  {
   "cell_type": "markdown",
   "id": "breeding-comparison",
   "metadata": {},
   "source": [
    "## Library Import"
   ]
  },
  {
   "cell_type": "code",
   "execution_count": 1,
   "id": "emotional-fetish",
   "metadata": {},
   "outputs": [],
   "source": [
    "# Suppress warnings \n",
    "import warnings\n",
    "warnings.filterwarnings('ignore')\n",
    "\n",
    "import os, sys, gc, warnings, random\n",
    "from typing import List\n",
    "\n",
    "import datetime\n",
    "import dateutil.relativedelta\n",
    "\n",
    "# Data manipulation\n",
    "import pandas as pd \n",
    "import numpy as np\n",
    "\n",
    "# Visualization\n",
    "import matplotlib.pyplot as plt\n",
    "import seaborn as sns\n",
    "\n",
    "# Machine learning\n",
    "from sklearn.pipeline import Pipeline\n",
    "from sklearn.preprocessing import MinMaxScaler, LabelEncoder\n",
    "from sklearn.impute import SimpleImputer\n",
    "from sklearn.metrics import precision_score, recall_score, f1_score, roc_auc_score, precision_recall_curve, roc_curve\n",
    "from sklearn.model_selection import train_test_split, cross_val_score, KFold, StratifiedKFold, GroupKFold\n",
    "from sklearn.ensemble import RandomForestClassifier\n",
    "\n",
    "import lightgbm as lgb\n",
    "import xgboost as xgb\n",
    "from catboost import CatBoostClassifier, Pool\n",
    "\n",
    "from tqdm.notebook import trange, tqdm\n",
    "\n",
    "from IPython.display import display\n",
    "\n",
    "%matplotlib inline\n",
    "\n",
    "pd.options.display.max_rows = 10000\n",
    "pd.options.display.max_columns = 1000\n",
    "pd.options.display.max_colwidth = 1000"
   ]
  },
  {
   "cell_type": "markdown",
   "id": "restricted-scratch",
   "metadata": {},
   "source": [
    "## Fix Seed 함수 정의"
   ]
  },
  {
   "cell_type": "code",
   "execution_count": 2,
   "id": "relative-movie",
   "metadata": {},
   "outputs": [],
   "source": [
    "'''\n",
    "    결과의 재현성을 위해 seed 값을 설정하는 함수\n",
    "'''\n",
    "def seed_everything(seed=0):\n",
    "    random.seed(seed)\n",
    "    os.environ['PYTHONHASHSEED'] = str(seed)\n",
    "    np.random.seed(seed)\n",
    "    \n",
    "SEED = 42\n",
    "seed_everything(SEED)"
   ]
  },
  {
   "cell_type": "markdown",
   "id": "becoming-spanking",
   "metadata": {},
   "source": [
    "## 레이블 생성 함수 정의\n",
    "\n",
    "- 레이블 생성 함수는 연월을 인자로 받아서 고객 아이디별로 총 구매액이 인자로 받는 구매액 임계값을 넘는지 여부를 바이너리 레이블로 생성하는 함수"
   ]
  },
  {
   "cell_type": "code",
   "execution_count": 3,
   "id": "accredited-blind",
   "metadata": {},
   "outputs": [],
   "source": [
    "TOTAL_THRES = 300\n",
    "\n",
    "'''\n",
    "    입력인자로 받는 year_month에 대해 고객 ID별로 총 구매액이\n",
    "    구매액 임계값을 넘는지 여부의 binary label을 생성하는 함수\n",
    "'''\n",
    "def generate_label(df, year_month, total_thres=TOTAL_THRES, print_log=False):\n",
    "    df = df.copy()\n",
    "    \n",
    "    # year_month에 해당하는 label 데이터 생성\n",
    "    df['year_month'] = df['order_date'].dt.strftime('%Y-%m')\n",
    "    df.reset_index(drop=True, inplace=True)\n",
    "\n",
    "    # year_month 이전 월의 고객 ID 추출\n",
    "    cust = df[df['year_month']<year_month]['customer_id'].unique()\n",
    "    # year_month에 해당하는 데이터 선택\n",
    "    df = df[df['year_month']==year_month]\n",
    "    \n",
    "    # label 데이터프레임 생성\n",
    "    label = pd.DataFrame({'customer_id':cust})\n",
    "    label['year_month'] = year_month\n",
    "    \n",
    "    # year_month에 해당하는 고객 ID의 구매액의 합 계산\n",
    "    grped = df.groupby(['customer_id','year_month'], as_index=False)[['total']].sum()\n",
    "    \n",
    "    # label 데이터프레임과 merge하고 구매액 임계값을 넘었는지 여부로 label 생성\n",
    "    label = label.merge(grped, on=['customer_id','year_month'], how='left')\n",
    "    label['total'].fillna(0.0, inplace=True)\n",
    "    label['label'] = (label['total'] > total_thres).astype(int)\n",
    "\n",
    "    # 고객 ID로 정렬\n",
    "    label = label.sort_values('customer_id').reset_index(drop=True)\n",
    "    if print_log: print(f'{year_month} - final label shape: {label.shape}')\n",
    "    \n",
    "    return label"
   ]
  },
  {
   "cell_type": "markdown",
   "id": "chemical-increase",
   "metadata": {},
   "source": [
    "## 평가지표 출력 함수 정의"
   ]
  },
  {
   "cell_type": "code",
   "execution_count": 4,
   "id": "european-columbus",
   "metadata": {},
   "outputs": [],
   "source": [
    "'''\n",
    "    평가지표를 출력하는 함수\n",
    "'''\n",
    "def print_score(label: List[float], pred: List[float], prob_thres: float = 0.5):\n",
    "    print('Precision: {:.5f}'.format(precision_score(label, pred>prob_thres)))\n",
    "    print('Recall: {:.5f}'.format(recall_score(label, pred>prob_thres)))\n",
    "    print('F1 Score: {:.5f}'.format(f1_score(label, pred>prob_thres)))\n",
    "    print('ROC AUC Score: {:.5f}'.format(roc_auc_score(label, pred)))"
   ]
  },
  {
   "cell_type": "markdown",
   "id": "disciplinary-category",
   "metadata": {},
   "source": [
    "## 데이터 전처리 함수 정의\n",
    "- 범주형 변수 레이블 인코딩\n",
    "- 결측치 중위값으로 채움"
   ]
  },
  {
   "cell_type": "code",
   "execution_count": 5,
   "id": "looking-infrared",
   "metadata": {},
   "outputs": [],
   "source": [
    "'''\n",
    "    입력인자로 받는 train, test 데이터에 대해 범주형 피쳐는 레이블 인코딩을 \n",
    "    진행하고 결측치에 대해서는 중위값으로 데이터 전처리를 하는 함수\n",
    "'''\n",
    "def feature_preprocessing(\n",
    "    train: pd.DataFrame, \n",
    "    test: pd.DataFrame, \n",
    "    features: list, \n",
    "    do_imputing=True\n",
    "):\n",
    "    x_tr = train.copy()\n",
    "    x_te = test.copy()\n",
    "    \n",
    "    # 범주형 피처 이름을 저장할 변수\n",
    "    cate_cols = []\n",
    "\n",
    "    # 레이블 인코딩\n",
    "    for f in features:\n",
    "        if x_tr[f].dtype.name == 'object': # 데이터 타입이 object(str)이면 레이블 인코딩\n",
    "            cate_cols.append(f)\n",
    "            le = LabelEncoder()\n",
    "            # train + test 데이터를 합쳐서 레이블 인코딩 함수에 fit\n",
    "            le.fit(list(x_tr[f].values) + list(x_te[f].values))\n",
    "            \n",
    "            # train 데이터 레이블 인코딩 변환 수행\n",
    "            x_tr[f] = le.transform(list(x_tr[f].values))\n",
    "            \n",
    "            # test 데이터 레이블 인코딩 변환 수행\n",
    "            x_te[f] = le.transform(list(x_te[f].values))\n",
    "\n",
    "    print('categorical feature:', cate_cols)\n",
    "\n",
    "    if do_imputing:\n",
    "        # 중위값으로 결측치 채우기\n",
    "        imputer = SimpleImputer(strategy='median')\n",
    "\n",
    "        x_tr[features] = imputer.fit_transform(x_tr[features])\n",
    "        x_te[features] = imputer.transform(x_te[features])\n",
    "    \n",
    "    return x_tr, x_te"
   ]
  },
  {
   "cell_type": "markdown",
   "id": "designing-hardware",
   "metadata": {},
   "source": [
    "## 피처 엔지니어링 함수 정의\n",
    "- Pandas groupby aggregation 함수를 사용한 피처 엔지니어링"
   ]
  },
  {
   "cell_type": "code",
   "execution_count": 6,
   "id": "super-scanner",
   "metadata": {},
   "outputs": [],
   "source": [
    "'''\n",
    "    입력인자로 받는 year_month와 변수 prev_ym 기준으로 train, test 데이터를 생성 하고\n",
    "    집계(aggregation) 함수를 사용하여 피처 엔지니어링을 하는 함수\n",
    "'''\n",
    "def feature_engineering1(df: pd.DataFrame, year_month: str):\n",
    "    df = df.copy()\n",
    "    \n",
    "    # year_month 이전 월 계산\n",
    "    d = datetime.datetime.strptime(year_month, \"%Y-%m\")\n",
    "    prev_ym = d - dateutil.relativedelta.relativedelta(months=1)\n",
    "    prev_ym = prev_ym.strftime('%Y-%m')\n",
    "    \n",
    "    # train, test 데이터 선택\n",
    "    train = df[df['order_date'] < prev_ym]\n",
    "    test = df[df['order_date'] < year_month]\n",
    "    \n",
    "    # train, test 레이블 데이터 생성\n",
    "    train_label = generate_label(df, prev_ym)[['customer_id','year_month','label']]\n",
    "    test_label = generate_label(df, year_month)[['customer_id','year_month','label']]\n",
    "    \n",
    "    # group by aggregation 함수 선언\n",
    "    agg_func = ['mean','max','min','sum','count','std','skew']\n",
    "    all_train_data = pd.DataFrame()\n",
    "    \n",
    "    for i, tr_ym in enumerate(train_label['year_month'].unique()):\n",
    "        # group by aggretation 함수로 train 데이터 피처 생성\n",
    "        train_agg = train.loc[train['order_date'] < tr_ym].groupby(['customer_id']).agg(agg_func)\n",
    "\n",
    "        # 멀티 레벨 컬럼을 사용하기 쉽게 1 레벨 컬럼명으로 변경\n",
    "        new_cols = []\n",
    "        for col in train_agg.columns.levels[0]:\n",
    "            for stat in train_agg.columns.levels[1]:\n",
    "                new_cols.append(f'{col}-{stat}')\n",
    "\n",
    "        train_agg.columns = new_cols\n",
    "        train_agg.reset_index(inplace = True)\n",
    "        \n",
    "        train_agg['year_month'] = tr_ym\n",
    "        \n",
    "        all_train_data = all_train_data.append(train_agg)\n",
    "    \n",
    "    all_train_data = train_label.merge(all_train_data, on=['customer_id', 'year_month'], how='left')\n",
    "    features = all_train_data.drop(columns=['customer_id', 'label', 'year_month']).columns\n",
    "    \n",
    "    # group by aggretation 함수로 test 데이터 피처 생성\n",
    "    test_agg = test.groupby(['customer_id']).agg(agg_func)\n",
    "    test_agg.columns = new_cols\n",
    "    \n",
    "    test_data = test_label.merge(test_agg, on=['customer_id'], how='left')\n",
    "\n",
    "    # train, test 데이터 전처리\n",
    "    x_tr, x_te = feature_preprocessing(all_train_data, test_data, features)\n",
    "    \n",
    "    print('x_tr.shape', x_tr.shape, ', x_te.shape', x_te.shape)\n",
    "    \n",
    "    return x_tr, x_te, all_train_data['label'], features"
   ]
  },
  {
   "cell_type": "markdown",
   "id": "thorough-spread",
   "metadata": {},
   "source": [
    "## LightGBM cross validation out of fold train/predict 함수 정의"
   ]
  },
  {
   "cell_type": "code",
   "execution_count": 7,
   "id": "sexual-trading",
   "metadata": {},
   "outputs": [],
   "source": [
    "'''\n",
    "    학습 데이터(x_tr), 검증 데이터(x_val), 테스트 데이터(test)로 LightGBM 모델을\n",
    "    학습, 교차(cross) 검증 및 테스트하고 사용된 피처들의 중요도를 반환하는 함수\n",
    "'''\n",
    "\n",
    "def make_lgb_oof_prediction(train, y, test, features, categorical_features='auto', model_params=None, folds=10):\n",
    "    x_train = train[features]\n",
    "    x_test = test[features]\n",
    "    \n",
    "    # 테스트 데이터 예측값을 저장할 변수\n",
    "    test_preds = np.zeros(x_test.shape[0])\n",
    "    \n",
    "    # Out Of Fold Validation 예측 데이터를 저장할 변수\n",
    "    y_oof = np.zeros(x_train.shape[0])\n",
    "    \n",
    "    # 폴드별 평균 Validation 스코어를 저장할 변수\n",
    "    score = 0\n",
    "    \n",
    "    # 피처 중요도를 저장할 데이터 프레임 선언\n",
    "    fi = pd.DataFrame()\n",
    "    fi['feature'] = features\n",
    "    \n",
    "    # Stratified K Fold 선언\n",
    "    skf = StratifiedKFold(n_splits=folds, shuffle=True, random_state=SEED)\n",
    "\n",
    "    for fold, (tr_idx, val_idx) in enumerate(skf.split(x_train, y)):\n",
    "        # train index, validation index로 train 데이터를 나눔\n",
    "        x_tr, x_val = x_train.loc[tr_idx, features], x_train.loc[val_idx, features]\n",
    "        y_tr, y_val = y[tr_idx], y[val_idx]\n",
    "        \n",
    "        print(f'fold: {fold+1}, x_tr.shape: {x_tr.shape}, x_val.shape: {x_val.shape}')\n",
    "\n",
    "        # LightGBM 데이터셋 선언\n",
    "        dtrain = lgb.Dataset(x_tr, label=y_tr)\n",
    "        dvalid = lgb.Dataset(x_val, label=y_val)\n",
    "        \n",
    "        # LightGBM 모델 훈련\n",
    "        clf = lgb.train(\n",
    "            model_params,\n",
    "            dtrain,\n",
    "            valid_sets=[dtrain, dvalid], # Validation 성능을 측정할 수 있도록 설정\n",
    "            categorical_feature=categorical_features,\n",
    "            verbose_eval=200\n",
    "        )\n",
    "\n",
    "        # Validation 데이터 예측\n",
    "        val_preds = clf.predict(x_val)\n",
    "        \n",
    "        # Validation index에 예측값 저장 \n",
    "        y_oof[val_idx] = val_preds\n",
    "        \n",
    "        # 폴드별 Validation 스코어 측정\n",
    "        print(f\"Fold {fold + 1} | AUC: {roc_auc_score(y_val, val_preds)}\")\n",
    "        print('-'*80)\n",
    "\n",
    "        # score 변수에 폴드별 평균 Validation 스코어 저장\n",
    "        score += roc_auc_score(y_val, val_preds) / folds\n",
    "        \n",
    "        # 테스트 데이터 예측하고 평균해서 저장\n",
    "        test_preds += clf.predict(x_test) / folds\n",
    "        \n",
    "        # 폴드별 피처 중요도 저장\n",
    "        fi[f'fold_{fold+1}'] = clf.feature_importance()\n",
    "\n",
    "        del x_tr, x_val, y_tr, y_val\n",
    "        gc.collect()\n",
    "        \n",
    "    print(f\"\\nMean AUC = {score}\") # 폴드별 Validation 스코어 출력\n",
    "    print(f\"OOF AUC = {roc_auc_score(y, y_oof)}\") # Out Of Fold Validation 스코어 출력\n",
    "        \n",
    "    # 폴드별 피처 중요도 평균값 계산해서 저장 \n",
    "    fi_cols = [col for col in fi.columns if 'fold_' in col]\n",
    "    fi['importance'] = fi[fi_cols].mean(axis=1)\n",
    "    \n",
    "    return y_oof, test_preds, fi"
   ]
  },
  {
   "cell_type": "markdown",
   "id": "headed-liability",
   "metadata": {},
   "source": [
    "## XGBoost cross validation out of fold train/predict 함수 정의"
   ]
  },
  {
   "cell_type": "code",
   "execution_count": 8,
   "id": "mounted-nerve",
   "metadata": {},
   "outputs": [],
   "source": [
    "'''\n",
    "    학습 데이터(x_tr), 검증 데이터(x_val), 테스트 데이터(test)로 XGBoost 모델을\n",
    "    학습, 교차(cross) 검증 및 테스트하고 사용된 피처들의 중요도를 반환하는 함수\n",
    "'''\n",
    "\n",
    "def make_xgb_oof_prediction(train, y, test, features, model_params=None, folds=10):\n",
    "    x_train = train[features]\n",
    "    x_test = test[features]\n",
    "    \n",
    "    # 테스트 데이터 예측값을 저장할 변수\n",
    "    test_preds = np.zeros(x_test.shape[0])\n",
    "    \n",
    "    # Out Of Fold Validation 예측 데이터를 저장할 변수\n",
    "    y_oof = np.zeros(x_train.shape[0])\n",
    "    \n",
    "    # 폴드별 평균 Validation 스코어를 저장할 변수\n",
    "    score = 0\n",
    "    \n",
    "    # 피처 중요도를 저장할 데이터 프레임 선언\n",
    "    fi = pd.DataFrame()\n",
    "    fi['feature'] = features\n",
    "    \n",
    "    # Stratified K Fold 선언\n",
    "    skf = StratifiedKFold(n_splits=folds, shuffle=True, random_state=SEED)\n",
    "\n",
    "    for fold, (tr_idx, val_idx) in enumerate(skf.split(x_train, y)):\n",
    "        # train index, validation index로 train 데이터를 나눔\n",
    "        x_tr, x_val = x_train.loc[tr_idx, features], x_train.loc[val_idx, features]\n",
    "        y_tr, y_val = y[tr_idx], y[val_idx]\n",
    "        \n",
    "        print(f'fold: {fold+1}, x_tr.shape: {x_tr.shape}, x_val.shape: {x_val.shape}')\n",
    "        \n",
    "        # XGBoost 데이터셋 선언\n",
    "        dtrain = xgb.DMatrix(x_tr, label=y_tr)\n",
    "        dvalid = xgb.DMatrix(x_val, label=y_val)\n",
    "        \n",
    "        # XGBoost 모델 훈련\n",
    "        clf = xgb.train(\n",
    "            model_params,\n",
    "            dtrain,\n",
    "            num_boost_round=10000, # 트리 개수\n",
    "            evals=[(dtrain, 'train'), (dvalid, 'valid')],  # Validation 성능을 측정할 수 있도록 설정\n",
    "            verbose_eval=200,\n",
    "            early_stopping_rounds=100\n",
    "        )\n",
    "        \n",
    "        # Validation 데이터 예측\n",
    "        val_preds = clf.predict(dvalid)\n",
    "        \n",
    "        # Validation index에 예측값 저장 \n",
    "        y_oof[val_idx] = val_preds\n",
    "        \n",
    "        # 폴드별 Validation 스코어 출력\n",
    "        print(f\"Fold {fold + 1} | AUC: {roc_auc_score(y_val, val_preds)}\")\n",
    "        print('-'*80)\n",
    "\n",
    "        # score 변수에 폴드별 평균 Validation 스코어 저장\n",
    "        score += roc_auc_score(y_val, val_preds) / folds\n",
    "        \n",
    "        # 테스트 데이터 예측하고 평균해서 저장\n",
    "        test_preds += clf.predict(xgb.DMatrix(x_test)) / folds\n",
    "\n",
    "        # 폴드별 피처 중요도 저장\n",
    "        fi_tmp = pd.DataFrame.from_records([clf.get_score()]).T.reset_index()\n",
    "        fi_tmp.columns = ['feature',f'fold_{fold+1}']\n",
    "        fi = pd.merge(fi, fi_tmp, on='feature')\n",
    "\n",
    "        del x_tr, x_val, y_tr, y_val\n",
    "        gc.collect()\n",
    "        \n",
    "    print(f\"\\nMean AUC = {score}\") # 폴드별 평균 Validation 스코어 출력\n",
    "    print(f\"OOF AUC = {roc_auc_score(y, y_oof)}\") # Out Of Fold Validation 스코어 출력\n",
    "        \n",
    "    # 폴드별 피처 중요도 평균값 계산해서 저장\n",
    "    fi_cols = [col for col in fi.columns if 'fold_' in col]\n",
    "    fi['importance'] = fi[fi_cols].mean(axis=1)\n",
    "    \n",
    "    return y_oof, test_preds, fi"
   ]
  },
  {
   "cell_type": "markdown",
   "id": "instant-division",
   "metadata": {},
   "source": [
    "## CatBoost cross validation out of fold train/predict 함수 정의"
   ]
  },
  {
   "cell_type": "code",
   "execution_count": 9,
   "id": "fabulous-fraction",
   "metadata": {},
   "outputs": [],
   "source": [
    "'''\n",
    "    학습 데이터(x_tr), 검증 데이터(x_val), 테스트 데이터(test)로 CatBoost 모델을\n",
    "    학습, 교차(cross) 검증 및 테스트하고 사용된 피처들의 중요도를 반환하는 함수\n",
    "'''\n",
    "\n",
    "def make_cat_oof_prediction(train, y, test, features, categorical_features=None, model_params=None, folds=10):\n",
    "    x_train = train[features]\n",
    "    x_test = test[features]\n",
    "    \n",
    "    # 테스트 데이터 예측값을 저장할 변수\n",
    "    test_preds = np.zeros(x_test.shape[0])\n",
    "    \n",
    "    # Out Of Fold Validation 예측 데이터를 저장할 변수\n",
    "    y_oof = np.zeros(x_train.shape[0])\n",
    "    \n",
    "    # 폴드별 평균 Validation 스코어를 저장할 변수\n",
    "    score = 0\n",
    "    \n",
    "    # 피처 중요도를 저장할 데이터 프레임 선언\n",
    "    fi = pd.DataFrame()\n",
    "    fi['feature'] = features\n",
    "    \n",
    "    # Stratified K Fold 선언\n",
    "    skf = StratifiedKFold(n_splits=folds, shuffle=True, random_state=SEED)\n",
    "\n",
    "    for fold, (tr_idx, val_idx) in enumerate(skf.split(x_train, y)):\n",
    "        # train index, validation index로 train 데이터를 나눔\n",
    "        x_tr, x_val = x_train.loc[tr_idx, features], x_train.loc[val_idx, features]\n",
    "        y_tr, y_val = y[tr_idx], y[val_idx]\n",
    "        \n",
    "        print(f'fold: {fold+1}, x_tr.shape: {x_tr.shape}, x_val.shape: {x_val.shape}')\n",
    "        \n",
    "        # CatBoost 모델 훈련\n",
    "        clf = CatBoostClassifier(**model_params)\n",
    "        clf.fit(x_tr, y_tr,\n",
    "                eval_set=(x_val, y_val), # Validation 성능을 측정할 수 있도록 설정\n",
    "                cat_features=categorical_features,\n",
    "                use_best_model=True,\n",
    "                verbose=True)\n",
    "        \n",
    "        # Validation 데이터 예측\n",
    "        val_preds = clf.predict_proba(x_val)[:,1]\n",
    "        \n",
    "        # Validation index에 예측값 저장 \n",
    "        y_oof[val_idx] = val_preds\n",
    "        \n",
    "        # 폴드별 Validation 스코어 출력\n",
    "        print(f\"Fold {fold + 1} | AUC: {roc_auc_score(y_val, val_preds)}\")\n",
    "        print('-'*80)\n",
    "\n",
    "        # score 변수에 폴드별 평균 Validation 스코어 저장\n",
    "        score += roc_auc_score(y_val, val_preds) / folds\n",
    "        \n",
    "        # 테스트 데이터 예측하고 평균해서 저장\n",
    "        test_preds += clf.predict_proba(x_test)[:,1] / folds\n",
    "\n",
    "        # 폴드별 피처 중요도 저장\n",
    "        fi[f'fold_{fold+1}'] = clf.feature_importances_\n",
    "        \n",
    "        del x_tr, x_val, y_tr, y_val\n",
    "        gc.collect()\n",
    "        \n",
    "    print(f\"\\nMean AUC = {score}\") # 폴드별 평균 Validation 스코어 출력\n",
    "    print(f\"OOF AUC = {roc_auc_score(y, y_oof)}\") # Out Of Fold Validation 스코어 출력\n",
    "        \n",
    "    # 폴드별 피처 중요도 평균값 계산해서 저장\n",
    "    fi_cols = [col for col in fi.columns if 'fold_' in col]\n",
    "    fi['importance'] = fi[fi_cols].mean(axis=1)\n",
    "    \n",
    "    return y_oof, test_preds, fi"
   ]
  },
  {
   "cell_type": "markdown",
   "id": "tired-ancient",
   "metadata": {},
   "source": [
    "## 피처 중요도 플롯 함수 정의"
   ]
  },
  {
   "cell_type": "code",
   "execution_count": 10,
   "id": "composed-trigger",
   "metadata": {},
   "outputs": [],
   "source": [
    "'''\n",
    "    피처 중요도 정규화(importance_normalized) 및 누적 중요도(cumulative_importance)를 계산하고\n",
    "    중요도 정규화 순으로 n개의 바플롯을 그리는 함수\n",
    "'''\n",
    "def plot_feature_importances(df, n=20, color='blue', figsize=(12,8)):\n",
    "    # 피처 중요도 순으로 내림차순 정렬\n",
    "    df = df.sort_values('importance', ascending = False).reset_index(drop = True)\n",
    "    \n",
    "    # 피처 중요도 정규화 및 누적 중요도 계산\n",
    "    df['importance_normalized'] = df['importance'] / df['importance'].sum()\n",
    "    df['cumulative_importance'] = np.cumsum(df['importance_normalized'])\n",
    "    \n",
    "    plt.rcParams['font.size'] = 12\n",
    "    plt.style.use('fivethirtyeight')\n",
    "    # 피처 중요도 순으로 n개까지 바플롯으로 그리기\n",
    "    df.loc[:n, :].plot.barh(y='importance_normalized', \n",
    "                            x='feature', color=color, \n",
    "                            edgecolor='k', figsize=figsize,\n",
    "                            legend=False)\n",
    "\n",
    "    plt.xlabel('Normalized Importance', size=18); plt.ylabel(''); \n",
    "    plt.title(f'Top {n} Most Important Features', size=18)\n",
    "    plt.gca().invert_yaxis()\n",
    "    \n",
    "    return df"
   ]
  },
  {
   "cell_type": "markdown",
   "id": "fiscal-nomination",
   "metadata": {},
   "source": [
    "## Train 데이터 읽기\n",
    "- 9개의 feature를 가진 780502개의 train data"
   ]
  },
  {
   "cell_type": "code",
   "execution_count": 11,
   "id": "thrown-reunion",
   "metadata": {},
   "outputs": [
    {
     "name": "stdout",
     "output_type": "stream",
     "text": [
      "(780502, 9)\n"
     ]
    },
    {
     "data": {
      "text/html": [
       "<div>\n",
       "<style scoped>\n",
       "    .dataframe tbody tr th:only-of-type {\n",
       "        vertical-align: middle;\n",
       "    }\n",
       "\n",
       "    .dataframe tbody tr th {\n",
       "        vertical-align: top;\n",
       "    }\n",
       "\n",
       "    .dataframe thead th {\n",
       "        text-align: right;\n",
       "    }\n",
       "</style>\n",
       "<table border=\"1\" class=\"dataframe\">\n",
       "  <thead>\n",
       "    <tr style=\"text-align: right;\">\n",
       "      <th></th>\n",
       "      <th>order_id</th>\n",
       "      <th>product_id</th>\n",
       "      <th>description</th>\n",
       "      <th>quantity</th>\n",
       "      <th>order_date</th>\n",
       "      <th>price</th>\n",
       "      <th>customer_id</th>\n",
       "      <th>country</th>\n",
       "      <th>total</th>\n",
       "    </tr>\n",
       "  </thead>\n",
       "  <tbody>\n",
       "    <tr>\n",
       "      <th>0</th>\n",
       "      <td>489434</td>\n",
       "      <td>85048</td>\n",
       "      <td>15CM CHRISTMAS GLASS BALL 20 LIGHTS</td>\n",
       "      <td>12</td>\n",
       "      <td>2009-12-01 07:45:00</td>\n",
       "      <td>11.4675</td>\n",
       "      <td>13085</td>\n",
       "      <td>United Kingdom</td>\n",
       "      <td>137.61</td>\n",
       "    </tr>\n",
       "    <tr>\n",
       "      <th>1</th>\n",
       "      <td>489434</td>\n",
       "      <td>79323P</td>\n",
       "      <td>PINK CHERRY LIGHTS</td>\n",
       "      <td>12</td>\n",
       "      <td>2009-12-01 07:45:00</td>\n",
       "      <td>11.1375</td>\n",
       "      <td>13085</td>\n",
       "      <td>United Kingdom</td>\n",
       "      <td>133.65</td>\n",
       "    </tr>\n",
       "    <tr>\n",
       "      <th>2</th>\n",
       "      <td>489434</td>\n",
       "      <td>79323W</td>\n",
       "      <td>WHITE CHERRY LIGHTS</td>\n",
       "      <td>12</td>\n",
       "      <td>2009-12-01 07:45:00</td>\n",
       "      <td>11.1375</td>\n",
       "      <td>13085</td>\n",
       "      <td>United Kingdom</td>\n",
       "      <td>133.65</td>\n",
       "    </tr>\n",
       "    <tr>\n",
       "      <th>3</th>\n",
       "      <td>489434</td>\n",
       "      <td>22041</td>\n",
       "      <td>RECORD FRAME 7\" SINGLE SIZE</td>\n",
       "      <td>48</td>\n",
       "      <td>2009-12-01 07:45:00</td>\n",
       "      <td>3.4650</td>\n",
       "      <td>13085</td>\n",
       "      <td>United Kingdom</td>\n",
       "      <td>166.32</td>\n",
       "    </tr>\n",
       "    <tr>\n",
       "      <th>4</th>\n",
       "      <td>489434</td>\n",
       "      <td>21232</td>\n",
       "      <td>STRAWBERRY CERAMIC TRINKET BOX</td>\n",
       "      <td>24</td>\n",
       "      <td>2009-12-01 07:45:00</td>\n",
       "      <td>2.0625</td>\n",
       "      <td>13085</td>\n",
       "      <td>United Kingdom</td>\n",
       "      <td>49.50</td>\n",
       "    </tr>\n",
       "  </tbody>\n",
       "</table>\n",
       "</div>"
      ],
      "text/plain": [
       "  order_id product_id                          description  quantity  \\\n",
       "0   489434      85048  15CM CHRISTMAS GLASS BALL 20 LIGHTS        12   \n",
       "1   489434     79323P                   PINK CHERRY LIGHTS        12   \n",
       "2   489434     79323W                  WHITE CHERRY LIGHTS        12   \n",
       "3   489434      22041         RECORD FRAME 7\" SINGLE SIZE         48   \n",
       "4   489434      21232       STRAWBERRY CERAMIC TRINKET BOX        24   \n",
       "\n",
       "           order_date    price  customer_id         country   total  \n",
       "0 2009-12-01 07:45:00  11.4675        13085  United Kingdom  137.61  \n",
       "1 2009-12-01 07:45:00  11.1375        13085  United Kingdom  133.65  \n",
       "2 2009-12-01 07:45:00  11.1375        13085  United Kingdom  133.65  \n",
       "3 2009-12-01 07:45:00   3.4650        13085  United Kingdom  166.32  \n",
       "4 2009-12-01 07:45:00   2.0625        13085  United Kingdom   49.50  "
      ]
     },
     "execution_count": 11,
     "metadata": {},
     "output_type": "execute_result"
    }
   ],
   "source": [
    "data = pd.read_csv(\"../input/train.csv\", parse_dates=[\"order_date\"])\n",
    "print(data.shape) # data shape 확인\n",
    "data.head()"
   ]
  },
  {
   "cell_type": "markdown",
   "id": "preliminary-beast",
   "metadata": {},
   "source": [
    "## Pandas info() 함수로 데이터 타입 및 null 체크"
   ]
  },
  {
   "cell_type": "code",
   "execution_count": 12,
   "id": "binary-patrick",
   "metadata": {},
   "outputs": [
    {
     "name": "stdout",
     "output_type": "stream",
     "text": [
      "<class 'pandas.core.frame.DataFrame'>\n",
      "RangeIndex: 780502 entries, 0 to 780501\n",
      "Data columns (total 9 columns):\n",
      " #   Column       Non-Null Count   Dtype         \n",
      "---  ------       --------------   -----         \n",
      " 0   order_id     780502 non-null  object        \n",
      " 1   product_id   780502 non-null  object        \n",
      " 2   description  780502 non-null  object        \n",
      " 3   quantity     780502 non-null  int64         \n",
      " 4   order_date   780502 non-null  datetime64[ns]\n",
      " 5   price        780502 non-null  float64       \n",
      " 6   customer_id  780502 non-null  int64         \n",
      " 7   country      780502 non-null  object        \n",
      " 8   total        780502 non-null  float64       \n",
      "dtypes: datetime64[ns](1), float64(2), int64(2), object(4)\n",
      "memory usage: 53.6+ MB\n"
     ]
    }
   ],
   "source": [
    "data.info()"
   ]
  },
  {
   "cell_type": "markdown",
   "id": "incredible-emission",
   "metadata": {},
   "source": [
    "## Pandas isna(), sum() 함수로 null 데이터 개수 체크"
   ]
  },
  {
   "cell_type": "code",
   "execution_count": 13,
   "id": "aggressive-frank",
   "metadata": {},
   "outputs": [
    {
     "data": {
      "text/plain": [
       "order_id       0\n",
       "product_id     0\n",
       "description    0\n",
       "quantity       0\n",
       "order_date     0\n",
       "price          0\n",
       "customer_id    0\n",
       "country        0\n",
       "total          0\n",
       "dtype: int64"
      ]
     },
     "execution_count": 13,
     "metadata": {},
     "output_type": "execute_result"
    }
   ],
   "source": [
    "data.isna().sum()"
   ]
  },
  {
   "cell_type": "markdown",
   "id": "consistent-messenger",
   "metadata": {},
   "source": [
    "## Pandas describe() 함수에 include='all' 인자 설정으로 수치형, 범주형 데이터 기본 통계량 확인"
   ]
  },
  {
   "cell_type": "code",
   "execution_count": 14,
   "id": "artificial-steal",
   "metadata": {},
   "outputs": [
    {
     "data": {
      "text/html": [
       "<div>\n",
       "<style scoped>\n",
       "    .dataframe tbody tr th:only-of-type {\n",
       "        vertical-align: middle;\n",
       "    }\n",
       "\n",
       "    .dataframe tbody tr th {\n",
       "        vertical-align: top;\n",
       "    }\n",
       "\n",
       "    .dataframe thead th {\n",
       "        text-align: right;\n",
       "    }\n",
       "</style>\n",
       "<table border=\"1\" class=\"dataframe\">\n",
       "  <thead>\n",
       "    <tr style=\"text-align: right;\">\n",
       "      <th></th>\n",
       "      <th>order_id</th>\n",
       "      <th>product_id</th>\n",
       "      <th>description</th>\n",
       "      <th>quantity</th>\n",
       "      <th>order_date</th>\n",
       "      <th>price</th>\n",
       "      <th>customer_id</th>\n",
       "      <th>country</th>\n",
       "      <th>total</th>\n",
       "    </tr>\n",
       "  </thead>\n",
       "  <tbody>\n",
       "    <tr>\n",
       "      <th>count</th>\n",
       "      <td>780502</td>\n",
       "      <td>780502</td>\n",
       "      <td>780502</td>\n",
       "      <td>780502.000000</td>\n",
       "      <td>780502</td>\n",
       "      <td>780502.000000</td>\n",
       "      <td>780502.000000</td>\n",
       "      <td>780502</td>\n",
       "      <td>780502.000000</td>\n",
       "    </tr>\n",
       "    <tr>\n",
       "      <th>unique</th>\n",
       "      <td>43955</td>\n",
       "      <td>4645</td>\n",
       "      <td>5297</td>\n",
       "      <td>NaN</td>\n",
       "      <td>40615</td>\n",
       "      <td>NaN</td>\n",
       "      <td>NaN</td>\n",
       "      <td>41</td>\n",
       "      <td>NaN</td>\n",
       "    </tr>\n",
       "    <tr>\n",
       "      <th>top</th>\n",
       "      <td>576339</td>\n",
       "      <td>85123A</td>\n",
       "      <td>WHITE HANGING HEART T-LIGHT HOLDER</td>\n",
       "      <td>NaN</td>\n",
       "      <td>2011-11-14 15:27:00</td>\n",
       "      <td>NaN</td>\n",
       "      <td>NaN</td>\n",
       "      <td>United Kingdom</td>\n",
       "      <td>NaN</td>\n",
       "    </tr>\n",
       "    <tr>\n",
       "      <th>freq</th>\n",
       "      <td>542</td>\n",
       "      <td>5096</td>\n",
       "      <td>5096</td>\n",
       "      <td>NaN</td>\n",
       "      <td>543</td>\n",
       "      <td>NaN</td>\n",
       "      <td>NaN</td>\n",
       "      <td>700317</td>\n",
       "      <td>NaN</td>\n",
       "    </tr>\n",
       "    <tr>\n",
       "      <th>first</th>\n",
       "      <td>NaN</td>\n",
       "      <td>NaN</td>\n",
       "      <td>NaN</td>\n",
       "      <td>NaN</td>\n",
       "      <td>2009-12-01 07:45:00</td>\n",
       "      <td>NaN</td>\n",
       "      <td>NaN</td>\n",
       "      <td>NaN</td>\n",
       "      <td>NaN</td>\n",
       "    </tr>\n",
       "    <tr>\n",
       "      <th>last</th>\n",
       "      <td>NaN</td>\n",
       "      <td>NaN</td>\n",
       "      <td>NaN</td>\n",
       "      <td>NaN</td>\n",
       "      <td>2011-11-30 17:42:00</td>\n",
       "      <td>NaN</td>\n",
       "      <td>NaN</td>\n",
       "      <td>NaN</td>\n",
       "      <td>NaN</td>\n",
       "    </tr>\n",
       "    <tr>\n",
       "      <th>mean</th>\n",
       "      <td>NaN</td>\n",
       "      <td>NaN</td>\n",
       "      <td>NaN</td>\n",
       "      <td>12.623307</td>\n",
       "      <td>NaN</td>\n",
       "      <td>6.140931</td>\n",
       "      <td>15313.393466</td>\n",
       "      <td>NaN</td>\n",
       "      <td>33.715373</td>\n",
       "    </tr>\n",
       "    <tr>\n",
       "      <th>std</th>\n",
       "      <td>NaN</td>\n",
       "      <td>NaN</td>\n",
       "      <td>NaN</td>\n",
       "      <td>143.906302</td>\n",
       "      <td>NaN</td>\n",
       "      <td>119.042266</td>\n",
       "      <td>1695.765797</td>\n",
       "      <td>NaN</td>\n",
       "      <td>274.207403</td>\n",
       "    </tr>\n",
       "    <tr>\n",
       "      <th>min</th>\n",
       "      <td>NaN</td>\n",
       "      <td>NaN</td>\n",
       "      <td>NaN</td>\n",
       "      <td>-74215.000000</td>\n",
       "      <td>NaN</td>\n",
       "      <td>0.000000</td>\n",
       "      <td>12346.000000</td>\n",
       "      <td>NaN</td>\n",
       "      <td>-127352.940000</td>\n",
       "    </tr>\n",
       "    <tr>\n",
       "      <th>25%</th>\n",
       "      <td>NaN</td>\n",
       "      <td>NaN</td>\n",
       "      <td>NaN</td>\n",
       "      <td>2.000000</td>\n",
       "      <td>NaN</td>\n",
       "      <td>2.062500</td>\n",
       "      <td>13963.000000</td>\n",
       "      <td>NaN</td>\n",
       "      <td>7.260000</td>\n",
       "    </tr>\n",
       "    <tr>\n",
       "      <th>50%</th>\n",
       "      <td>NaN</td>\n",
       "      <td>NaN</td>\n",
       "      <td>NaN</td>\n",
       "      <td>5.000000</td>\n",
       "      <td>NaN</td>\n",
       "      <td>3.217500</td>\n",
       "      <td>15239.000000</td>\n",
       "      <td>NaN</td>\n",
       "      <td>19.470000</td>\n",
       "    </tr>\n",
       "    <tr>\n",
       "      <th>75%</th>\n",
       "      <td>NaN</td>\n",
       "      <td>NaN</td>\n",
       "      <td>NaN</td>\n",
       "      <td>12.000000</td>\n",
       "      <td>NaN</td>\n",
       "      <td>6.187500</td>\n",
       "      <td>16788.000000</td>\n",
       "      <td>NaN</td>\n",
       "      <td>32.175000</td>\n",
       "    </tr>\n",
       "    <tr>\n",
       "      <th>max</th>\n",
       "      <td>NaN</td>\n",
       "      <td>NaN</td>\n",
       "      <td>NaN</td>\n",
       "      <td>74215.000000</td>\n",
       "      <td>NaN</td>\n",
       "      <td>64300.500000</td>\n",
       "      <td>18287.000000</td>\n",
       "      <td>NaN</td>\n",
       "      <td>127352.940000</td>\n",
       "    </tr>\n",
       "  </tbody>\n",
       "</table>\n",
       "</div>"
      ],
      "text/plain": [
       "       order_id product_id                         description       quantity  \\\n",
       "count    780502     780502                              780502  780502.000000   \n",
       "unique    43955       4645                                5297            NaN   \n",
       "top      576339     85123A  WHITE HANGING HEART T-LIGHT HOLDER            NaN   \n",
       "freq        542       5096                                5096            NaN   \n",
       "first       NaN        NaN                                 NaN            NaN   \n",
       "last        NaN        NaN                                 NaN            NaN   \n",
       "mean        NaN        NaN                                 NaN      12.623307   \n",
       "std         NaN        NaN                                 NaN     143.906302   \n",
       "min         NaN        NaN                                 NaN  -74215.000000   \n",
       "25%         NaN        NaN                                 NaN       2.000000   \n",
       "50%         NaN        NaN                                 NaN       5.000000   \n",
       "75%         NaN        NaN                                 NaN      12.000000   \n",
       "max         NaN        NaN                                 NaN   74215.000000   \n",
       "\n",
       "                 order_date          price    customer_id         country  \\\n",
       "count                780502  780502.000000  780502.000000          780502   \n",
       "unique                40615            NaN            NaN              41   \n",
       "top     2011-11-14 15:27:00            NaN            NaN  United Kingdom   \n",
       "freq                    543            NaN            NaN          700317   \n",
       "first   2009-12-01 07:45:00            NaN            NaN             NaN   \n",
       "last    2011-11-30 17:42:00            NaN            NaN             NaN   \n",
       "mean                    NaN       6.140931   15313.393466             NaN   \n",
       "std                     NaN     119.042266    1695.765797             NaN   \n",
       "min                     NaN       0.000000   12346.000000             NaN   \n",
       "25%                     NaN       2.062500   13963.000000             NaN   \n",
       "50%                     NaN       3.217500   15239.000000             NaN   \n",
       "75%                     NaN       6.187500   16788.000000             NaN   \n",
       "max                     NaN   64300.500000   18287.000000             NaN   \n",
       "\n",
       "                total  \n",
       "count   780502.000000  \n",
       "unique            NaN  \n",
       "top               NaN  \n",
       "freq              NaN  \n",
       "first             NaN  \n",
       "last              NaN  \n",
       "mean        33.715373  \n",
       "std        274.207403  \n",
       "min    -127352.940000  \n",
       "25%          7.260000  \n",
       "50%         19.470000  \n",
       "75%         32.175000  \n",
       "max     127352.940000  "
      ]
     },
     "execution_count": 14,
     "metadata": {},
     "output_type": "execute_result"
    }
   ],
   "source": [
    "data.describe(include='all')"
   ]
  },
  {
   "cell_type": "markdown",
   "id": "underlying-receipt",
   "metadata": {},
   "source": [
    "## 2011년 11월 Label 데이터 생성"
   ]
  },
  {
   "cell_type": "code",
   "execution_count": 15,
   "id": "front-scheduling",
   "metadata": {},
   "outputs": [],
   "source": [
    "label_2011_11 = generate_label(data, '2011-11')['label']"
   ]
  },
  {
   "cell_type": "markdown",
   "id": "empirical-ancient",
   "metadata": {},
   "source": [
    "## Label 데이터 분포 플롯"
   ]
  },
  {
   "cell_type": "code",
   "execution_count": 16,
   "id": "distinct-bankruptcy",
   "metadata": {},
   "outputs": [
    {
     "data": {
      "text/plain": [
       "0    4534\n",
       "1    1188\n",
       "Name: label, dtype: int64"
      ]
     },
     "execution_count": 16,
     "metadata": {},
     "output_type": "execute_result"
    },
    {
     "data": {
      "image/png": "[encoded data removed]",
      "text/plain": [
       "<Figure size 432x288 with 1 Axes>"
      ]
     },
     "metadata": {
      "needs_background": "light"
     },
     "output_type": "display_data"
    }
   ],
   "source": [
    "sns.countplot(label_2011_11);\n",
    "label_2011_11.value_counts()"
   ]
  },
  {
   "cell_type": "markdown",
   "id": "integral-transformation",
   "metadata": {},
   "source": [
    "## LightGBM Hyperparameter 선언\n",
    "- early stopping 기능을 사용하기 위해 n_estimators, early_stopping_rounds 설정"
   ]
  },
  {
   "cell_type": "code",
   "execution_count": 17,
   "id": "enabling-medline",
   "metadata": {},
   "outputs": [],
   "source": [
    "model_params = {\n",
    "    'objective': 'binary', # 이진 분류\n",
    "    'boosting_type': 'gbdt',\n",
    "    'metric': 'auc', # 평가 지표 설정\n",
    "    'feature_fraction': 0.8, # 피처 샘플링 비율\n",
    "    'bagging_fraction': 0.8, # 데이터 샘플링 비율\n",
    "    'bagging_freq': 1,\n",
    "    'n_estimators': 10000, # 트리 개수\n",
    "    'early_stopping_rounds': 100,\n",
    "    'seed': SEED,\n",
    "    'verbose': -1,\n",
    "    'n_jobs': -1,    \n",
    "}"
   ]
  },
  {
   "cell_type": "markdown",
   "id": "equal-arrow",
   "metadata": {},
   "source": [
    "## 2011년 12월 LightGBM 베이스라인 모델 예측\n",
    "- Validation 성능 측정"
   ]
  },
  {
   "cell_type": "code",
   "execution_count": 18,
   "id": "sustainable-pantyhose",
   "metadata": {},
   "outputs": [
    {
     "name": "stdout",
     "output_type": "stream",
     "text": [
      "categorical feature: []\n",
      "x_tr.shape (5722, 24) , x_te.shape (5914, 24)\n",
      "fold: 1, x_tr.shape: (5149, 21), x_val.shape: (573, 21)\n",
      "Training until validation scores don't improve for 100 rounds\n",
      "Early stopping, best iteration is:\n",
      "[24]\ttraining's auc: 0.902047\tvalid_1's auc: 0.76602\n",
      "Fold 1 | AUC: 0.7660200644134305\n",
      "--------------------------------------------------------------------------------\n",
      "fold: 2, x_tr.shape: (5149, 21), x_val.shape: (573, 21)\n",
      "Training until validation scores don't improve for 100 rounds\n",
      "Early stopping, best iteration is:\n",
      "[35]\ttraining's auc: 0.926121\tvalid_1's auc: 0.790915\n",
      "Fold 2 | AUC: 0.790915485136786\n",
      "--------------------------------------------------------------------------------\n",
      "fold: 3, x_tr.shape: (5150, 21), x_val.shape: (572, 21)\n",
      "Training until validation scores don't improve for 100 rounds\n",
      "Early stopping, best iteration is:\n",
      "[10]\ttraining's auc: 0.852035\tvalid_1's auc: 0.794034\n",
      "Fold 3 | AUC: 0.7940341969685657\n",
      "--------------------------------------------------------------------------------\n",
      "fold: 4, x_tr.shape: (5150, 21), x_val.shape: (572, 21)\n",
      "Training until validation scores don't improve for 100 rounds\n",
      "Early stopping, best iteration is:\n",
      "[12]\ttraining's auc: 0.86607\tvalid_1's auc: 0.750737\n",
      "Fold 4 | AUC: 0.7507373254685283\n",
      "--------------------------------------------------------------------------------\n",
      "fold: 5, x_tr.shape: (5150, 21), x_val.shape: (572, 21)\n",
      "Training until validation scores don't improve for 100 rounds\n",
      "Early stopping, best iteration is:\n",
      "[35]\ttraining's auc: 0.925663\tvalid_1's auc: 0.772664\n",
      "Fold 5 | AUC: 0.7726640325004173\n",
      "--------------------------------------------------------------------------------\n",
      "fold: 6, x_tr.shape: (5150, 21), x_val.shape: (572, 21)\n",
      "Training until validation scores don't improve for 100 rounds\n",
      "Early stopping, best iteration is:\n",
      "[40]\ttraining's auc: 0.937477\tvalid_1's auc: 0.793812\n",
      "Fold 6 | AUC: 0.7938115643608437\n",
      "--------------------------------------------------------------------------------\n",
      "fold: 7, x_tr.shape: (5150, 21), x_val.shape: (572, 21)\n",
      "Training until validation scores don't improve for 100 rounds\n",
      "Early stopping, best iteration is:\n",
      "[4]\ttraining's auc: 0.827173\tvalid_1's auc: 0.7946\n",
      "Fold 7 | AUC: 0.7945999591889736\n",
      "--------------------------------------------------------------------------------\n",
      "fold: 8, x_tr.shape: (5150, 21), x_val.shape: (572, 21)\n",
      "Training until validation scores don't improve for 100 rounds\n",
      "Early stopping, best iteration is:\n",
      "[11]\ttraining's auc: 0.858855\tvalid_1's auc: 0.764066\n",
      "Fold 8 | AUC: 0.7640658912571651\n",
      "--------------------------------------------------------------------------------\n",
      "fold: 9, x_tr.shape: (5150, 21), x_val.shape: (572, 21)\n",
      "Training until validation scores don't improve for 100 rounds\n",
      "Early stopping, best iteration is:\n",
      "[10]\ttraining's auc: 0.854105\tvalid_1's auc: 0.779927\n",
      "Fold 9 | AUC: 0.7799265401524849\n",
      "--------------------------------------------------------------------------------\n",
      "fold: 10, x_tr.shape: (5150, 21), x_val.shape: (572, 21)\n",
      "Training until validation scores don't improve for 100 rounds\n",
      "Early stopping, best iteration is:\n",
      "[20]\ttraining's auc: 0.886854\tvalid_1's auc: 0.764075\n",
      "Fold 10 | AUC: 0.7640751664904373\n",
      "--------------------------------------------------------------------------------\n",
      "\n",
      "Mean AUC = 0.7770850225937632\n",
      "OOF AUC = 0.7672395547891799\n"
     ]
    }
   ],
   "source": [
    "train, test, y, features = feature_engineering1(data, '2011-12')\n",
    "y_oof, test_preds, fi = make_lgb_oof_prediction(train, y, test, features, model_params=model_params)"
   ]
  },
  {
   "cell_type": "markdown",
   "id": "figured-filing",
   "metadata": {},
   "source": [
    "## 2011년 12월 LightGBM 베이스라인 모델 예측 데이터 분포"
   ]
  },
  {
   "cell_type": "code",
   "execution_count": 19,
   "id": "quantitative-rabbit",
   "metadata": {},
   "outputs": [
    {
     "data": {
      "image/png": "[encoded data removed]",
      "text/plain": [
       "<Figure size 432x288 with 1 Axes>"
      ]
     },
     "metadata": {
      "needs_background": "light"
     },
     "output_type": "display_data"
    }
   ],
   "source": [
    "sns.distplot(test_preds)\n",
    "plt.show()"
   ]
  },
  {
   "cell_type": "markdown",
   "id": "ranking-artwork",
   "metadata": {},
   "source": [
    "## LightGBM 피처 중요도 플롯"
   ]
  },
  {
   "cell_type": "code",
   "execution_count": 20,
   "id": "color-thread",
   "metadata": {},
   "outputs": [
    {
     "data": {
      "image/png": "[encoded data removed]",
      "text/plain": [
       "<Figure size 864x576 with 1 Axes>"
      ]
     },
     "metadata": {},
     "output_type": "display_data"
    }
   ],
   "source": [
    "fi = plot_feature_importances(fi)"
   ]
  },
  {
   "cell_type": "markdown",
   "id": "unique-stranger",
   "metadata": {},
   "source": [
    "## XGBoost Hyperparameter 선언"
   ]
  },
  {
   "cell_type": "code",
   "execution_count": 21,
   "id": "obvious-width",
   "metadata": {},
   "outputs": [],
   "source": [
    "xgb_params = {\n",
    "    'objective': 'binary:logistic', # 이진 분류\n",
    "    'learning_rate': 0.1, # 학습률\n",
    "    'max_depth': 6, # 트리 최고 깊이\n",
    "    'colsample_bytree': 0.8, # 피처 샘플링 비율\n",
    "    'subsample': 0.8, # 데이터 샘플링 비율\n",
    "    'eval_metric': 'auc', # 평가 지표 설정\n",
    "    'seed': SEED,\n",
    "} "
   ]
  },
  {
   "cell_type": "markdown",
   "id": "magnetic-attitude",
   "metadata": {},
   "source": [
    "## 2011년 12월 XGBoost 베이스라인 모델 예측\n",
    "- Validation 성능 측정"
   ]
  },
  {
   "cell_type": "code",
   "execution_count": 22,
   "id": "impossible-imaging",
   "metadata": {},
   "outputs": [
    {
     "name": "stdout",
     "output_type": "stream",
     "text": [
      "fold: 1, x_tr.shape: (5149, 21), x_val.shape: (573, 21)\n",
      "[0]\ttrain-auc:0.79284\tvalid-auc:0.72994\n",
      "[103]\ttrain-auc:0.98293\tvalid-auc:0.74707\n",
      "Fold 1 | AUC: 0.7467145448487764\n",
      "--------------------------------------------------------------------------------\n",
      "fold: 2, x_tr.shape: (5149, 21), x_val.shape: (573, 21)\n",
      "[0]\ttrain-auc:0.79778\tvalid-auc:0.75875\n",
      "[113]\ttrain-auc:0.98796\tvalid-auc:0.77507\n",
      "Fold 2 | AUC: 0.7750712619849702\n",
      "--------------------------------------------------------------------------------\n",
      "fold: 3, x_tr.shape: (5150, 21), x_val.shape: (572, 21)\n",
      "[0]\ttrain-auc:0.79108\tvalid-auc:0.75608\n",
      "[106]\ttrain-auc:0.98309\tvalid-auc:0.77339\n",
      "Fold 3 | AUC: 0.7730344209661764\n",
      "--------------------------------------------------------------------------------\n",
      "fold: 4, x_tr.shape: (5150, 21), x_val.shape: (572, 21)\n",
      "[0]\ttrain-auc:0.80321\tvalid-auc:0.72746\n",
      "[103]\ttrain-auc:0.98263\tvalid-auc:0.72308\n",
      "Fold 4 | AUC: 0.7242589412379601\n",
      "--------------------------------------------------------------------------------\n",
      "fold: 5, x_tr.shape: (5150, 21), x_val.shape: (572, 21)\n",
      "[0]\ttrain-auc:0.79828\tvalid-auc:0.75234\n",
      "[156]\ttrain-auc:0.99719\tvalid-auc:0.76385\n",
      "Fold 5 | AUC: 0.7643905244216893\n",
      "--------------------------------------------------------------------------------\n",
      "fold: 6, x_tr.shape: (5150, 21), x_val.shape: (572, 21)\n",
      "[0]\ttrain-auc:0.79612\tvalid-auc:0.75100\n",
      "[105]\ttrain-auc:0.98370\tvalid-auc:0.77287\n",
      "Fold 6 | AUC: 0.7728680876324041\n",
      "--------------------------------------------------------------------------------\n",
      "fold: 7, x_tr.shape: (5150, 21), x_val.shape: (572, 21)\n",
      "[0]\ttrain-auc:0.80029\tvalid-auc:0.78202\n",
      "[100]\ttrain-auc:0.97823\tvalid-auc:0.77467\n",
      "Fold 7 | AUC: 0.7745932810210178\n",
      "--------------------------------------------------------------------------------\n",
      "fold: 8, x_tr.shape: (5150, 21), x_val.shape: (572, 21)\n",
      "[0]\ttrain-auc:0.79766\tvalid-auc:0.73768\n",
      "[144]\ttrain-auc:0.99531\tvalid-auc:0.73595\n",
      "Fold 8 | AUC: 0.7359526592093791\n",
      "--------------------------------------------------------------------------------\n",
      "fold: 9, x_tr.shape: (5150, 21), x_val.shape: (572, 21)\n",
      "[0]\ttrain-auc:0.79482\tvalid-auc:0.75752\n",
      "[200]\ttrain-auc:0.99960\tvalid-auc:0.77012\n",
      "[205]\ttrain-auc:0.99967\tvalid-auc:0.76899\n",
      "Fold 9 | AUC: 0.7695290036544419\n",
      "--------------------------------------------------------------------------------\n",
      "fold: 10, x_tr.shape: (5150, 21), x_val.shape: (572, 21)\n",
      "[0]\ttrain-auc:0.79871\tvalid-auc:0.75933\n",
      "[104]\ttrain-auc:0.97887\tvalid-auc:0.74118\n",
      "Fold 10 | AUC: 0.741425046839928\n",
      "--------------------------------------------------------------------------------\n",
      "\n",
      "Mean AUC = 0.7577837771816742\n",
      "OOF AUC = 0.7574080200624091\n"
     ]
    }
   ],
   "source": [
    "y_oof, test_preds, fi_xgb = make_xgb_oof_prediction(train, y, test, features, model_params=xgb_params)"
   ]
  },
  {
   "cell_type": "markdown",
   "id": "retired-trustee",
   "metadata": {},
   "source": [
    "## 2011년 12월 XGBoost 베이스라인 모델 예측 데이터 분포"
   ]
  },
  {
   "cell_type": "code",
   "execution_count": 23,
   "id": "automated-catering",
   "metadata": {},
   "outputs": [
    {
     "data": {
      "image/png": "[encoded data removed]",
      "text/plain": [
       "<Figure size 432x288 with 1 Axes>"
      ]
     },
     "metadata": {},
     "output_type": "display_data"
    }
   ],
   "source": [
    "sns.distplot(test_preds)\n",
    "plt.show()"
   ]
  },
  {
   "cell_type": "markdown",
   "id": "serial-strip",
   "metadata": {},
   "source": [
    "## XGBoost 피처 중요도 플롯"
   ]
  },
  {
   "cell_type": "code",
   "execution_count": 24,
   "id": "hidden-midnight",
   "metadata": {},
   "outputs": [
    {
     "data": {
      "image/png": "[encoded data removed]",
      "text/plain": [
       "<Figure size 864x576 with 1 Axes>"
      ]
     },
     "metadata": {},
     "output_type": "display_data"
    }
   ],
   "source": [
    "fi_xgb = plot_feature_importances(fi_xgb)"
   ]
  },
  {
   "cell_type": "markdown",
   "id": "amateur-newport",
   "metadata": {},
   "source": [
    "## CatBoost Hyperparameter 선언"
   ]
  },
  {
   "cell_type": "code",
   "execution_count": 25,
   "id": "painful-journey",
   "metadata": {},
   "outputs": [],
   "source": [
    "cat_params = {\n",
    "    'n_estimators': 10000, # 트리 개수\n",
    "    'learning_rate': 0.07, # 학습률\n",
    "    'eval_metric': 'AUC', # 평가 지표 설정\n",
    "    'loss_function': 'Logloss', # 손실 함수 설정\n",
    "    'random_seed': SEED,\n",
    "    'metric_period': 100,\n",
    "    'od_wait': 100, # early stopping round\n",
    "    'depth': 6, # 트리 최고 깊이\n",
    "    'rsm': 0.8, # 피처 샘플링 비율\n",
    "}"
   ]
  },
  {
   "cell_type": "markdown",
   "id": "demanding-bunny",
   "metadata": {},
   "source": [
    "## 2011년 12월 CatBoost 베이스라인 모델 예측\n",
    "- Validation 성능 측정"
   ]
  },
  {
   "cell_type": "code",
   "execution_count": 26,
   "id": "boolean-gospel",
   "metadata": {},
   "outputs": [
    {
     "name": "stdout",
     "output_type": "stream",
     "text": [
      "fold: 1, x_tr.shape: (5149, 21), x_val.shape: (573, 21)\n",
      "0:\ttest: 0.7258357\tbest: 0.7258357 (0)\ttotal: 62.9ms\tremaining: 10m 29s\n"
     ]
    },
    {
     "name": "stderr",
     "output_type": "stream",
     "text": [
      "Warning: Overfitting detector is active, thus evaluation metric is calculated on every iteration. 'metric_period' is ignored for evaluation metric.\n"
     ]
    },
    {
     "name": "stdout",
     "output_type": "stream",
     "text": [
      "100:\ttest: 0.7663532\tbest: 0.7674638 (87)\ttotal: 509ms\tremaining: 49.9s\n",
      "Stopped by overfitting detector  (100 iterations wait)\n",
      "\n",
      "bestTest = 0.7674638137\n",
      "bestIteration = 87\n",
      "\n",
      "Shrink model to first 88 iterations.\n",
      "Fold 1 | AUC: 0.7674638137193203\n",
      "--------------------------------------------------------------------------------\n",
      "fold: 2, x_tr.shape: (5149, 21), x_val.shape: (573, 21)\n",
      "0:\ttest: 0.7426517\tbest: 0.7426517 (0)\ttotal: 5.67ms\tremaining: 56.7s\n"
     ]
    },
    {
     "name": "stderr",
     "output_type": "stream",
     "text": [
      "Warning: Overfitting detector is active, thus evaluation metric is calculated on every iteration. 'metric_period' is ignored for evaluation metric.\n"
     ]
    },
    {
     "name": "stdout",
     "output_type": "stream",
     "text": [
      "100:\ttest: 0.7989301\tbest: 0.8001888 (75)\ttotal: 505ms\tremaining: 49.5s\n",
      "Stopped by overfitting detector  (100 iterations wait)\n",
      "\n",
      "bestTest = 0.800188798\n",
      "bestIteration = 75\n",
      "\n",
      "Shrink model to first 76 iterations.\n",
      "Fold 2 | AUC: 0.8001887979861547\n",
      "--------------------------------------------------------------------------------\n",
      "fold: 3, x_tr.shape: (5150, 21), x_val.shape: (572, 21)\n",
      "0:\ttest: 0.7651012\tbest: 0.7651012 (0)\ttotal: 5.78ms\tremaining: 57.8s\n"
     ]
    },
    {
     "name": "stderr",
     "output_type": "stream",
     "text": [
      "Warning: Overfitting detector is active, thus evaluation metric is calculated on every iteration. 'metric_period' is ignored for evaluation metric.\n"
     ]
    },
    {
     "name": "stdout",
     "output_type": "stream",
     "text": [
      "100:\ttest: 0.7965355\tbest: 0.8112447 (17)\ttotal: 503ms\tremaining: 49.3s\n",
      "Stopped by overfitting detector  (100 iterations wait)\n",
      "\n",
      "bestTest = 0.8112446801\n",
      "bestIteration = 17\n",
      "\n",
      "Shrink model to first 18 iterations.\n",
      "Fold 3 | AUC: 0.8112446800567461\n",
      "--------------------------------------------------------------------------------\n",
      "fold: 4, x_tr.shape: (5150, 21), x_val.shape: (572, 21)\n",
      "0:\ttest: 0.7183790\tbest: 0.7183790 (0)\ttotal: 5.82ms\tremaining: 58.2s\n"
     ]
    },
    {
     "name": "stderr",
     "output_type": "stream",
     "text": [
      "Warning: Overfitting detector is active, thus evaluation metric is calculated on every iteration. 'metric_period' is ignored for evaluation metric.\n"
     ]
    },
    {
     "name": "stdout",
     "output_type": "stream",
     "text": [
      "100:\ttest: 0.7513813\tbest: 0.7615545 (8)\ttotal: 449ms\tremaining: 44s\n",
      "Stopped by overfitting detector  (100 iterations wait)\n",
      "\n",
      "bestTest = 0.7615545434\n",
      "bestIteration = 8\n",
      "\n",
      "Shrink model to first 9 iterations.\n",
      "Fold 4 | AUC: 0.7615545434182036\n",
      "--------------------------------------------------------------------------------\n",
      "fold: 5, x_tr.shape: (5150, 21), x_val.shape: (572, 21)\n",
      "0:\ttest: 0.7174022\tbest: 0.7174022 (0)\ttotal: 6.44ms\tremaining: 1m 4s\n"
     ]
    },
    {
     "name": "stderr",
     "output_type": "stream",
     "text": [
      "Warning: Overfitting detector is active, thus evaluation metric is calculated on every iteration. 'metric_period' is ignored for evaluation metric.\n"
     ]
    },
    {
     "name": "stdout",
     "output_type": "stream",
     "text": [
      "100:\ttest: 0.7802326\tbest: 0.7838314 (62)\ttotal: 476ms\tremaining: 46.7s\n",
      "200:\ttest: 0.7834975\tbest: 0.7860018 (136)\ttotal: 999ms\tremaining: 48.7s\n",
      "Stopped by overfitting detector  (100 iterations wait)\n",
      "\n",
      "bestTest = 0.7860018179\n",
      "bestIteration = 136\n",
      "\n",
      "Shrink model to first 137 iterations.\n",
      "Fold 5 | AUC: 0.7860018179457213\n",
      "--------------------------------------------------------------------------------\n",
      "fold: 6, x_tr.shape: (5150, 21), x_val.shape: (572, 21)\n",
      "0:\ttest: 0.7546979\tbest: 0.7546979 (0)\ttotal: 7.21ms\tremaining: 1m 12s\n"
     ]
    },
    {
     "name": "stderr",
     "output_type": "stream",
     "text": [
      "Warning: Overfitting detector is active, thus evaluation metric is calculated on every iteration. 'metric_period' is ignored for evaluation metric.\n"
     ]
    },
    {
     "name": "stdout",
     "output_type": "stream",
     "text": [
      "100:\ttest: 0.7988573\tbest: 0.7988573 (100)\ttotal: 548ms\tremaining: 53.7s\n",
      "200:\ttest: 0.7920864\tbest: 0.7989686 (102)\ttotal: 1.07s\tremaining: 52.4s\n",
      "Stopped by overfitting detector  (100 iterations wait)\n",
      "\n",
      "bestTest = 0.7989685941\n",
      "bestIteration = 102\n",
      "\n",
      "Shrink model to first 103 iterations.\n",
      "Fold 6 | AUC: 0.7989685940601405\n",
      "--------------------------------------------------------------------------------\n",
      "fold: 7, x_tr.shape: (5150, 21), x_val.shape: (572, 21)\n",
      "0:\ttest: 0.7804923\tbest: 0.7804923 (0)\ttotal: 7ms\tremaining: 1m 9s\n"
     ]
    },
    {
     "name": "stderr",
     "output_type": "stream",
     "text": [
      "Warning: Overfitting detector is active, thus evaluation metric is calculated on every iteration. 'metric_period' is ignored for evaluation metric.\n"
     ]
    },
    {
     "name": "stdout",
     "output_type": "stream",
     "text": [
      "100:\ttest: 0.7867995\tbest: 0.7943866 (19)\ttotal: 589ms\tremaining: 57.7s\n",
      "Stopped by overfitting detector  (100 iterations wait)\n",
      "\n",
      "bestTest = 0.7943866288\n",
      "bestIteration = 19\n",
      "\n",
      "Shrink model to first 20 iterations.\n",
      "Fold 7 | AUC: 0.7943866288237149\n",
      "--------------------------------------------------------------------------------\n",
      "fold: 8, x_tr.shape: (5150, 21), x_val.shape: (572, 21)\n",
      "0:\ttest: 0.7402285\tbest: 0.7402285 (0)\ttotal: 5.55ms\tremaining: 55.5s\n"
     ]
    },
    {
     "name": "stderr",
     "output_type": "stream",
     "text": [
      "Warning: Overfitting detector is active, thus evaluation metric is calculated on every iteration. 'metric_period' is ignored for evaluation metric.\n"
     ]
    },
    {
     "name": "stdout",
     "output_type": "stream",
     "text": [
      "100:\ttest: 0.7767637\tbest: 0.7767637 (100)\ttotal: 576ms\tremaining: 56.5s\n",
      "200:\ttest: 0.7666351\tbest: 0.7775057 (113)\ttotal: 1.09s\tremaining: 53.4s\n",
      "Stopped by overfitting detector  (100 iterations wait)\n",
      "\n",
      "bestTest = 0.7775057043\n",
      "bestIteration = 113\n",
      "\n",
      "Shrink model to first 114 iterations.\n",
      "Fold 8 | AUC: 0.7775057042684623\n",
      "--------------------------------------------------------------------------------\n",
      "fold: 9, x_tr.shape: (5150, 21), x_val.shape: (572, 21)\n",
      "0:\ttest: 0.7357022\tbest: 0.7357022 (0)\ttotal: 5.99ms\tremaining: 59.9s\n"
     ]
    },
    {
     "name": "stderr",
     "output_type": "stream",
     "text": [
      "Warning: Overfitting detector is active, thus evaluation metric is calculated on every iteration. 'metric_period' is ignored for evaluation metric.\n"
     ]
    },
    {
     "name": "stdout",
     "output_type": "stream",
     "text": [
      "100:\ttest: 0.7805665\tbest: 0.7816425 (94)\ttotal: 456ms\tremaining: 44.7s\n",
      "200:\ttest: 0.7835161\tbest: 0.7854824 (142)\ttotal: 894ms\tremaining: 43.6s\n",
      "Stopped by overfitting detector  (100 iterations wait)\n",
      "\n",
      "bestTest = 0.7854824049\n",
      "bestIteration = 142\n",
      "\n",
      "Shrink model to first 143 iterations.\n",
      "Fold 9 | AUC: 0.7854824048824829\n",
      "--------------------------------------------------------------------------------\n",
      "fold: 10, x_tr.shape: (5150, 21), x_val.shape: (572, 21)\n",
      "0:\ttest: 0.7410355\tbest: 0.7410355 (0)\ttotal: 7.38ms\tremaining: 1m 13s\n"
     ]
    },
    {
     "name": "stderr",
     "output_type": "stream",
     "text": [
      "Warning: Overfitting detector is active, thus evaluation metric is calculated on every iteration. 'metric_period' is ignored for evaluation metric.\n"
     ]
    },
    {
     "name": "stdout",
     "output_type": "stream",
     "text": [
      "100:\ttest: 0.7678409\tbest: 0.7821990 (6)\ttotal: 544ms\tremaining: 53.4s\n",
      "Stopped by overfitting detector  (100 iterations wait)\n",
      "\n",
      "bestTest = 0.7821989723\n",
      "bestIteration = 6\n",
      "\n",
      "Shrink model to first 7 iterations.\n",
      "Fold 10 | AUC: 0.7821989723041534\n",
      "--------------------------------------------------------------------------------\n",
      "\n",
      "Mean AUC = 0.7864995957465098\n",
      "OOF AUC = 0.7596498732361106\n"
     ]
    }
   ],
   "source": [
    "y_oof, test_preds, fi_cat = make_cat_oof_prediction(train, y, test, features, model_params=cat_params)"
   ]
  },
  {
   "cell_type": "markdown",
   "id": "decent-standing",
   "metadata": {},
   "source": [
    "## 2011년 12월 CatBoost 베이스라인 모델 예측 데이터 분포"
   ]
  },
  {
   "cell_type": "code",
   "execution_count": 27,
   "id": "deadly-satellite",
   "metadata": {},
   "outputs": [
    {
     "data": {
      "image/png": "[encoded data removed]",
      "text/plain": [
       "<Figure size 432x288 with 1 Axes>"
      ]
     },
     "metadata": {},
     "output_type": "display_data"
    }
   ],
   "source": [
    "sns.distplot(test_preds)\n",
    "plt.show()"
   ]
  },
  {
   "cell_type": "markdown",
   "id": "incoming-alexandria",
   "metadata": {},
   "source": [
    "## CatBoost 피처 중요도 플롯"
   ]
  },
  {
   "cell_type": "code",
   "execution_count": 28,
   "id": "public-tension",
   "metadata": {},
   "outputs": [
    {
     "data": {
      "image/png": "[encoded data removed]",
      "text/plain": [
       "<Figure size 864x576 with 1 Axes>"
      ]
     },
     "metadata": {},
     "output_type": "display_data"
    }
   ],
   "source": [
    "fi_cat = plot_feature_importances(fi_cat)"
   ]
  }
 ],
 "metadata": {
  "hide_input": false,
  "kernelspec": {
   "display_name": "Python 3 (ipykernel)",
   "language": "python",
   "name": "python3"
  },
  "language_info": {
   "codemirror_mode": {
    "name": "ipython",
    "version": 3
   },
   "file_extension": ".py",
   "mimetype": "text/x-python",
   "name": "python",
   "nbconvert_exporter": "python",
   "pygments_lexer": "ipython3",
   "version": "3.8.1"
  },
  "toc": {
   "base_numbering": 1,
   "nav_menu": {},
   "number_sections": true,
   "sideBar": true,
   "skip_h1_title": false,
   "title_cell": "Table of Contents",
   "title_sidebar": "Contents",
   "toc_cell": false,
   "toc_position": {},
   "toc_section_display": true,
   "toc_window_display": false
  }
 },
 "nbformat": 4,
 "nbformat_minor": 5
}
